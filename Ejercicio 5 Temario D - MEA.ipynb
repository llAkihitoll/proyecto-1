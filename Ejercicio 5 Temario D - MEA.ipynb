{
 "cells": [
  {
   "cell_type": "code",
   "execution_count": 1,
   "metadata": {},
   "outputs": [],
   "source": [
    "import pandas as pd\n",
    "import matplotlib.pyplot as plt\n",
    "\n",
    "sisData = pd.read_csv('reporte_sismos_2019_2023.csv')"
   ]
  },
  {
   "cell_type": "code",
   "execution_count": 2,
   "metadata": {},
   "outputs": [
    {
     "name": "stdout",
     "output_type": "stream",
     "text": [
      "         No      TiempodeOrigen  Latitud  Longitud  Profundidad  MAG  NST  NF  \\\n",
      "0        1    2019-01-01T02:25    14.762   -91.062          6.1  3.4   11  17   \n",
      "1        2    2019-01-01T02:45    14.486   -91.773         67.6  3.3    5   9   \n",
      "2        3    2019-01-01T03:19    14.135   -92.318         27.1  4.0   16  19   \n",
      "3        4    2019-01-01T11:17    14.391   -91.578         82.6  4.6   21  31   \n",
      "4        5    2019-01-01T15:27    14.301   -91.856         59.5  3.0    7   2   \n",
      "...     ...                 ...      ...       ...          ...  ...  ...  ..   \n",
      "19828  4625   2023-12-30T12:38    12.275   -89.103         11.1  4.0   21  32   \n",
      "19829  4626   2023-12-30T19:27    13.896   -89.753          1.0  2.6    7  12   \n",
      "19830  4627   2023-12-30T20:55    13.931   -91.441         38.3  2.7   25  28   \n",
      "19831  4628   2023-12-31T01:10    12.965   -89.216         26.9  3.0   16  29   \n",
      "19832  4629   2023-12-31T05:06    13.311   -89.905         26.4  2.4    8  15   \n",
      "\n",
      "                 ZS Sensible  Anio  \n",
      "0               G4        si  2019  \n",
      "1       SUBDUCCION        no  2019  \n",
      "2       SUBDUCCION        no  2019  \n",
      "3       SUBDUCCION        no  2019  \n",
      "4       SUBDUCCION        no  2019  \n",
      "...             ...      ...   ...  \n",
      "19828     REGIONAL        no  2023  \n",
      "19829           G4        no  2023  \n",
      "19830   SUBDUCCION        no  2023  \n",
      "19831     REGIONAL        no  2023  \n",
      "19832   SUBDUCCION        no  2023  \n",
      "\n",
      "[19833 rows x 11 columns]\n"
     ]
    }
   ],
   "source": [
    "print(sisData)"
   ]
  },
  {
   "cell_type": "code",
   "execution_count": 3,
   "metadata": {},
   "outputs": [],
   "source": [
    "def mostrar_cantidad_variables():\n",
    "    print(\"Cantidad de sismos registrados en los últimos 5 años:\", len(sisData))\n",
    "    print(\"Nombres de las variables:\")\n",
    "    print(sisData.columns.tolist())"
   ]
  },
  {
   "cell_type": "code",
   "execution_count": 4,
   "metadata": {},
   "outputs": [],
   "source": [
    "def sismos_por_anio():\n",
    "    anio = int(input(\"Ingrese el año para consultar la cantidad de sismos: \"))\n",
    "    sismos_anio = sisData[sisData['Anio'] == anio]\n",
    "    print(f\"Cantidad de sismos en el año {anio}: {len(sismos_anio)}\")"
   ]
  },
  {
   "cell_type": "code",
   "execution_count": 5,
   "metadata": {},
   "outputs": [],
   "source": [
    "def primeros_10_sismos_anio():\n",
    "    anio = int(input(\"Ingrese el año para consultar los primeros 10 sismos: \"))\n",
    "    sismos_anio = sisData[sisData['Anio'] == anio].head(10)\n",
    "    print(f\"Primeros 10 sismos en el año {anio}:\\n{str(sismos_anio)}\")"
   ]
  },
  {
   "cell_type": "code",
   "execution_count": 6,
   "metadata": {},
   "outputs": [],
   "source": [
    "def n_primeros_sismos_menor_intensidad():\n",
    "    n = int(input(\"Ingrese el número de sismos de menor intensidad a mostrar: \"))\n",
    "    sismos_ordenados = sisData.sort_values(by='MAG').head(n)\n",
    "    print(f\"Los {n} sismos de menor intensidad son:\\n{str(sismos_ordenados)}\")"
   ]
  },
  {
   "cell_type": "code",
   "execution_count": 7,
   "metadata": {},
   "outputs": [],
   "source": [
    "def sismos_menor_numero_estaciones():\n",
    "    anio = int(input(\"Ingrese el año para consultar los sismos: \"))\n",
    "    sismos_anio = sisData[sisData['Anio'] == anio]\n",
    "    sismos_ordenados = sismos_anio.sort_values(by='NST').head(10)\n",
    "    print(f\"Los 10 sismos detectados por el menor número de estaciones en el año {anio} son:\\n{str(sismos_ordenados)}\")"
   ]
  },
  {
   "cell_type": "code",
   "execution_count": 8,
   "metadata": {},
   "outputs": [],
   "source": [
    "def magnitud_promedio_por_anio():\n",
    "    anio = int(input(\"Ingrese el año para calcular la magnitud promedio de los sismos: \"))\n",
    "    sismos_anio = sisData[sisData['Anio'] == anio]\n",
    "    magnitud_promedio = sismos_anio['MAG'].mean()\n",
    "    print(f\"Magnitud promedio de los sismos en el año {anio}: {magnitud_promedio}\")"
   ]
  },
  {
   "cell_type": "code",
   "execution_count": 9,
   "metadata": {},
   "outputs": [],
   "source": [
    "def promedio_magnitud_profundidad_por_mes():\n",
    "    sisData['Mes'] = pd.to_datetime(sisData['TiempodeOrigen']).dt.month\n",
    "    promedio_mes = sisData.groupby('Mes').agg({'MAG': 'mean', 'Profundidad': 'mean'})\n",
    "    print(\"Promedio de magnitud y profundidad de los sismos por mes:\")\n",
    "    print(promedio_mes)"
   ]
  },
  {
   "cell_type": "code",
   "execution_count": 10,
   "metadata": {},
   "outputs": [],
   "source": [
    "def sismos_sensibles_promedio_por_año(SisData):\n",
    "    sismos_sensibles_por_año = SisData.groupby(SisData['Tiempodeorigen'].str[:4])['Sensible'].sum()\n",
    "    promedio_sismos_sensibles = sismos_sensibles_por_año.mean()\n",
    "    print(f\"En promedio, han ocurrido {promedio_sismos_sensibles} sismos sensibles por año.\")\n",
    "\n",
    "    opcion = input(\"Seleccione si desea ver la información gráficamente (s/n): \")\n",
    "    if opcion.lower() == 's':\n",
    "        tipo_grafica = input(\"Seleccione el tipo de gráfica (magnitud/profundidad): \")\n",
    "        if tipo_grafica.lower() == 'magnitud':\n",
    "            promedio_mes['MAG'].plot(kind='bar', title='Promedio de magnitud de sismos por mes')\n",
    "            plt.xlabel('Mes')\n",
    "            plt.ylabel('Magnitud Promedio')\n",
    "            plt.show()\n",
    "        elif tipo_grafica.lower() == 'profundidad':\n",
    "            promedio_mes['Profundidad'].plot(kind='bar', title='Promedio de profundidad de sismos por mes')\n",
    "            plt.xlabel('Mes')\n",
    "            plt.ylabel('Profundidad Promedio (km)')\n",
    "            plt.show()\n"
   ]
  },
  {
   "cell_type": "code",
   "execution_count": 11,
   "metadata": {},
   "outputs": [],
   "source": [
    "def sismos_sensibles_promedio_por_anio():\n",
    "    promedio_anual = sisData.groupby('Anio')['Sensible'].apply(lambda x: (x == 'si').sum() / len(x))\n",
    "    print(\"Promedio de sismos sensibles por año:\")\n",
    "    print(promedio_anual)\n",
    "    opcion = input(\"¿Desea visualizar una gráfica? (s/n): \")\n",
    "    if opcion.lower() == 's':\n",
    "        promedio_anual.plot(kind='bar', title='Promedio de sismos sensibles por año')\n",
    "        plt.xlabel('Año')\n",
    "        plt.ylabel('Promedio de sismos sensibles')\n",
    "        plt.show()"
   ]
  },
  {
   "cell_type": "code",
   "execution_count": 12,
   "metadata": {},
   "outputs": [],
   "source": [
    "def sismos_con_error_mayor_a_25kms():\n",
    "    sismos_error = sisData[sisData['No'].str.contains('\\*')]\n",
    "    sismos_por_anio = sismos_error.groupby('Anio').size()\n",
    "    print(\"Cantidad de sismos por año con error mayor a 25kms en su localización:\")\n",
    "    print(sismos_por_anio)\n",
    "    sismos_por_anio.plot(kind='bar', title='Sismos con error mayor a 25kms por año')\n",
    "    plt.xlabel('Año')\n",
    "    plt.ylabel('Cantidad de sismos')\n",
    "    plt.show()"
   ]
  },
  {
   "cell_type": "code",
   "execution_count": 13,
   "metadata": {},
   "outputs": [],
   "source": [
    "def sismo_menor_cantidad_fases():\n",
    "    sismo_menor_fases = sisData[sisData['NF'] == sisData['NF'].min()]\n",
    "    print(\"Información del sismo con la menor cantidad de fases:\")\n",
    "    print(sismo_menor_fases)\n"
   ]
  },
  {
   "cell_type": "code",
   "execution_count": null,
   "metadata": {},
   "outputs": [],
   "source": [
    "def crear_usuario():\n",
    "    print(\"Usuario creado exitosamente.\")"
   ]
  },
  {
   "cell_type": "code",
   "execution_count": null,
   "metadata": {},
   "outputs": [],
   "source": [
    "def ingresar_sistema():\n",
    "    usuario = input(\"Ingrese su nombre de usuario: \")\n",
    "    password = input(\"Ingrese su contraseña: \")\n",
    "    print(f\"Bienvenido, {usuario}.\")"
   ]
  },
  {
   "cell_type": "code",
   "execution_count": null,
   "metadata": {},
   "outputs": [],
   "source": []
  },
  {
   "cell_type": "code",
   "execution_count": 14,
   "metadata": {},
   "outputs": [
    {
     "name": "stdout",
     "output_type": "stream",
     "text": [
      "Menú:\n",
      "1. Promedio de magnitud y profundidad de los sismos por mes\n",
      "2. Promedio de sismos sensibles por año\n",
      "3. Sismos con error mayor a 25kms por año\n",
      "4. Información del sismo con la menor cantidad de fases\n",
      "5. Salir\n"
     ]
    },
    {
     "name": "stdout",
     "output_type": "stream",
     "text": [
      "Seleccione una opción:  1\n"
     ]
    },
    {
     "name": "stdout",
     "output_type": "stream",
     "text": [
      "Promedio de magnitud y profundidad de los sismos por mes:\n",
      "          MAG  Profundidad\n",
      "Mes                       \n",
      "1    3.127664    29.025084\n",
      "2    3.294492    37.756719\n",
      "3    3.455867    37.754699\n",
      "4    3.459557    38.229684\n",
      "5    3.526679    45.960461\n",
      "6    3.582443    47.555725\n",
      "7    3.401896    38.215107\n",
      "8    3.531668    39.961897\n",
      "9    3.495917    37.384781\n",
      "10   3.283351    31.553330\n",
      "11   2.837435    25.426304\n",
      "12   3.341211    34.367084\n",
      "Menú:\n",
      "1. Promedio de magnitud y profundidad de los sismos por mes\n",
      "2. Promedio de sismos sensibles por año\n",
      "3. Sismos con error mayor a 25kms por año\n",
      "4. Información del sismo con la menor cantidad de fases\n",
      "5. Salir\n"
     ]
    },
    {
     "name": "stdout",
     "output_type": "stream",
     "text": [
      "Seleccione una opción:  2\n"
     ]
    },
    {
     "name": "stdout",
     "output_type": "stream",
     "text": [
      "Promedio de sismos sensibles por año:\n",
      "Anio\n",
      "2019    0.024196\n",
      "2020    0.075402\n",
      "2021    0.054119\n",
      "2022    0.039436\n",
      "2023    0.027868\n",
      "Name: Sensible, dtype: float64\n"
     ]
    },
    {
     "name": "stdout",
     "output_type": "stream",
     "text": [
      "¿Desea visualizar una gráfica? (s/n):  3\n"
     ]
    },
    {
     "name": "stdout",
     "output_type": "stream",
     "text": [
      "Menú:\n",
      "1. Promedio de magnitud y profundidad de los sismos por mes\n",
      "2. Promedio de sismos sensibles por año\n",
      "3. Sismos con error mayor a 25kms por año\n",
      "4. Información del sismo con la menor cantidad de fases\n",
      "5. Salir\n"
     ]
    },
    {
     "name": "stdout",
     "output_type": "stream",
     "text": [
      "Seleccione una opción:  4\n"
     ]
    },
    {
     "name": "stdout",
     "output_type": "stream",
     "text": [
      "Información del sismo con la menor cantidad de fases:\n",
      "         No      TiempodeOrigen  Latitud  Longitud  Profundidad  MAG  NST  NF  \\\n",
      "16647  1444   2023-02-15T14:38    13.880   -91.390         31.0  3.1    0   0   \n",
      "17310  2107   2023-04-09T00:46    12.767   -88.618         41.8  3.7   19   0   \n",
      "19481  4278   2023-11-17T18:15    12.712   -88.146         30.6  3.5   17   0   \n",
      "\n",
      "                 ZS Sensible  Anio  Mes  \n",
      "16647   SUBDUCCION        no  2023    2  \n",
      "17310     REGIONAL        no  2023    4  \n",
      "19481     REGIONAL        no  2023   11  \n",
      "Menú:\n",
      "1. Promedio de magnitud y profundidad de los sismos por mes\n",
      "2. Promedio de sismos sensibles por año\n",
      "3. Sismos con error mayor a 25kms por año\n",
      "4. Información del sismo con la menor cantidad de fases\n",
      "5. Salir\n"
     ]
    },
    {
     "name": "stdout",
     "output_type": "stream",
     "text": [
      "Seleccione una opción:  5\n"
     ]
    },
    {
     "name": "stdout",
     "output_type": "stream",
     "text": [
      "¡Hasta luego!\n"
     ]
    },
    {
     "name": "stdout",
     "output_type": "stream",
     "text": [
      "Opción no válida. Por favor, seleccione una opción válida.\n",
      "Menú:\n",
      "1. Promedio de magnitud y profundidad de los sismos por mes\n",
      "2. Promedio de sismos sensibles por año\n",
      "3. Sismos con error mayor a 25kms por año\n",
      "4. Información del sismo con la menor cantidad de fases\n",
      "5. Salir\n"
     ]
    },
    {
     "name": "stdout",
     "output_type": "stream",
     "text": [
      "Seleccione una opción:  2\n"
     ]
    },
    {
     "name": "stdout",
     "output_type": "stream",
     "text": [
      "Promedio de sismos sensibles por año:\n",
      "Anio\n",
      "2019    0.024196\n",
      "2020    0.075402\n",
      "2021    0.054119\n",
      "2022    0.039436\n",
      "2023    0.027868\n",
      "Name: Sensible, dtype: float64\n"
     ]
    },
    {
     "name": "stdout",
     "output_type": "stream",
     "text": [
      "¿Desea visualizar una gráfica? (s/n):  s\n"
     ]
    },
    {
     "data": {
      "image/png": "[encoded data removed]",
      "text/plain": [
       "<Figure size 640x480 with 1 Axes>"
      ]
     },
     "metadata": {},
     "output_type": "display_data"
    },
    {
     "name": "stdout",
     "output_type": "stream",
     "text": [
      "Menú:\n",
      "1. Promedio de magnitud y profundidad de los sismos por mes\n",
      "2. Promedio de sismos sensibles por año\n",
      "3. Sismos con error mayor a 25kms por año\n",
      "4. Información del sismo con la menor cantidad de fases\n",
      "5. Salir\n"
     ]
    },
    {
     "name": "stdout",
     "output_type": "stream",
     "text": [
      "Seleccione una opción:  3\n"
     ]
    },
    {
     "ename": "KeyError",
     "evalue": "'Id'",
     "output_type": "error",
     "traceback": [
      "\u001b[1;31m---------------------------------------------------------------------------\u001b[0m",
      "\u001b[1;31mKeyError\u001b[0m                                  Traceback (most recent call last)",
      "File \u001b[1;32m~\\AppData\\Local\\Programs\\Python\\Python310\\lib\\site-packages\\pandas\\core\\indexes\\base.py:3805\u001b[0m, in \u001b[0;36mIndex.get_loc\u001b[1;34m(self, key)\u001b[0m\n\u001b[0;32m   3804\u001b[0m \u001b[38;5;28;01mtry\u001b[39;00m:\n\u001b[1;32m-> 3805\u001b[0m     \u001b[38;5;28;01mreturn\u001b[39;00m \u001b[38;5;28;43mself\u001b[39;49m\u001b[38;5;241;43m.\u001b[39;49m\u001b[43m_engine\u001b[49m\u001b[38;5;241;43m.\u001b[39;49m\u001b[43mget_loc\u001b[49m\u001b[43m(\u001b[49m\u001b[43mcasted_key\u001b[49m\u001b[43m)\u001b[49m\n\u001b[0;32m   3806\u001b[0m \u001b[38;5;28;01mexcept\u001b[39;00m \u001b[38;5;167;01mKeyError\u001b[39;00m \u001b[38;5;28;01mas\u001b[39;00m err:\n",
      "File \u001b[1;32mindex.pyx:167\u001b[0m, in \u001b[0;36mpandas._libs.index.IndexEngine.get_loc\u001b[1;34m()\u001b[0m\n",
      "File \u001b[1;32mindex.pyx:196\u001b[0m, in \u001b[0;36mpandas._libs.index.IndexEngine.get_loc\u001b[1;34m()\u001b[0m\n",
      "File \u001b[1;32mpandas\\\\_libs\\\\hashtable_class_helper.pxi:7081\u001b[0m, in \u001b[0;36mpandas._libs.hashtable.PyObjectHashTable.get_item\u001b[1;34m()\u001b[0m\n",
      "File \u001b[1;32mpandas\\\\_libs\\\\hashtable_class_helper.pxi:7089\u001b[0m, in \u001b[0;36mpandas._libs.hashtable.PyObjectHashTable.get_item\u001b[1;34m()\u001b[0m\n",
      "\u001b[1;31mKeyError\u001b[0m: 'Id'",
      "\nThe above exception was the direct cause of the following exception:\n",
      "\u001b[1;31mKeyError\u001b[0m                                  Traceback (most recent call last)",
      "Cell \u001b[1;32mIn[39], line 19\u001b[0m\n\u001b[0;32m     17\u001b[0m     sismos_sensibles_promedio_por_anio()\n\u001b[0;32m     18\u001b[0m \u001b[38;5;28;01melif\u001b[39;00m opcion \u001b[38;5;241m==\u001b[39m \u001b[38;5;124m'\u001b[39m\u001b[38;5;124m3\u001b[39m\u001b[38;5;124m'\u001b[39m:\n\u001b[1;32m---> 19\u001b[0m     \u001b[43msismos_con_error_mayor_a_25kms\u001b[49m\u001b[43m(\u001b[49m\u001b[43m)\u001b[49m\n\u001b[0;32m     20\u001b[0m \u001b[38;5;28;01melif\u001b[39;00m opcion \u001b[38;5;241m==\u001b[39m \u001b[38;5;124m'\u001b[39m\u001b[38;5;124m4\u001b[39m\u001b[38;5;124m'\u001b[39m:\n\u001b[0;32m     21\u001b[0m     sismo_menor_cantidad_fases()\n",
      "Cell \u001b[1;32mIn[37], line 2\u001b[0m, in \u001b[0;36msismos_con_error_mayor_a_25kms\u001b[1;34m()\u001b[0m\n\u001b[0;32m      1\u001b[0m \u001b[38;5;28;01mdef\u001b[39;00m \u001b[38;5;21msismos_con_error_mayor_a_25kms\u001b[39m():\n\u001b[1;32m----> 2\u001b[0m     sismos_error \u001b[38;5;241m=\u001b[39m sisData[\u001b[43msisData\u001b[49m\u001b[43m[\u001b[49m\u001b[38;5;124;43m'\u001b[39;49m\u001b[38;5;124;43mId\u001b[39;49m\u001b[38;5;124;43m'\u001b[39;49m\u001b[43m]\u001b[49m\u001b[38;5;241m.\u001b[39mstr\u001b[38;5;241m.\u001b[39mcontains(\u001b[38;5;124m'\u001b[39m\u001b[38;5;124m\\\u001b[39m\u001b[38;5;124m*\u001b[39m\u001b[38;5;124m'\u001b[39m)]\n\u001b[0;32m      3\u001b[0m     sismos_por_anio \u001b[38;5;241m=\u001b[39m sismos_error\u001b[38;5;241m.\u001b[39mgroupby(\u001b[38;5;124m'\u001b[39m\u001b[38;5;124mAnio\u001b[39m\u001b[38;5;124m'\u001b[39m)\u001b[38;5;241m.\u001b[39msize()\n\u001b[0;32m      4\u001b[0m     \u001b[38;5;28mprint\u001b[39m(\u001b[38;5;124m\"\u001b[39m\u001b[38;5;124mCantidad de sismos por año con error mayor a 25kms en su localización:\u001b[39m\u001b[38;5;124m\"\u001b[39m)\n",
      "File \u001b[1;32m~\\AppData\\Local\\Programs\\Python\\Python310\\lib\\site-packages\\pandas\\core\\frame.py:4102\u001b[0m, in \u001b[0;36mDataFrame.__getitem__\u001b[1;34m(self, key)\u001b[0m\n\u001b[0;32m   4100\u001b[0m \u001b[38;5;28;01mif\u001b[39;00m \u001b[38;5;28mself\u001b[39m\u001b[38;5;241m.\u001b[39mcolumns\u001b[38;5;241m.\u001b[39mnlevels \u001b[38;5;241m>\u001b[39m \u001b[38;5;241m1\u001b[39m:\n\u001b[0;32m   4101\u001b[0m     \u001b[38;5;28;01mreturn\u001b[39;00m \u001b[38;5;28mself\u001b[39m\u001b[38;5;241m.\u001b[39m_getitem_multilevel(key)\n\u001b[1;32m-> 4102\u001b[0m indexer \u001b[38;5;241m=\u001b[39m \u001b[38;5;28;43mself\u001b[39;49m\u001b[38;5;241;43m.\u001b[39;49m\u001b[43mcolumns\u001b[49m\u001b[38;5;241;43m.\u001b[39;49m\u001b[43mget_loc\u001b[49m\u001b[43m(\u001b[49m\u001b[43mkey\u001b[49m\u001b[43m)\u001b[49m\n\u001b[0;32m   4103\u001b[0m \u001b[38;5;28;01mif\u001b[39;00m is_integer(indexer):\n\u001b[0;32m   4104\u001b[0m     indexer \u001b[38;5;241m=\u001b[39m [indexer]\n",
      "File \u001b[1;32m~\\AppData\\Local\\Programs\\Python\\Python310\\lib\\site-packages\\pandas\\core\\indexes\\base.py:3812\u001b[0m, in \u001b[0;36mIndex.get_loc\u001b[1;34m(self, key)\u001b[0m\n\u001b[0;32m   3807\u001b[0m     \u001b[38;5;28;01mif\u001b[39;00m \u001b[38;5;28misinstance\u001b[39m(casted_key, \u001b[38;5;28mslice\u001b[39m) \u001b[38;5;129;01mor\u001b[39;00m (\n\u001b[0;32m   3808\u001b[0m         \u001b[38;5;28misinstance\u001b[39m(casted_key, abc\u001b[38;5;241m.\u001b[39mIterable)\n\u001b[0;32m   3809\u001b[0m         \u001b[38;5;129;01mand\u001b[39;00m \u001b[38;5;28many\u001b[39m(\u001b[38;5;28misinstance\u001b[39m(x, \u001b[38;5;28mslice\u001b[39m) \u001b[38;5;28;01mfor\u001b[39;00m x \u001b[38;5;129;01min\u001b[39;00m casted_key)\n\u001b[0;32m   3810\u001b[0m     ):\n\u001b[0;32m   3811\u001b[0m         \u001b[38;5;28;01mraise\u001b[39;00m InvalidIndexError(key)\n\u001b[1;32m-> 3812\u001b[0m     \u001b[38;5;28;01mraise\u001b[39;00m \u001b[38;5;167;01mKeyError\u001b[39;00m(key) \u001b[38;5;28;01mfrom\u001b[39;00m \u001b[38;5;21;01merr\u001b[39;00m\n\u001b[0;32m   3813\u001b[0m \u001b[38;5;28;01mexcept\u001b[39;00m \u001b[38;5;167;01mTypeError\u001b[39;00m:\n\u001b[0;32m   3814\u001b[0m     \u001b[38;5;66;03m# If we have a listlike key, _check_indexing_error will raise\u001b[39;00m\n\u001b[0;32m   3815\u001b[0m     \u001b[38;5;66;03m#  InvalidIndexError. Otherwise we fall through and re-raise\u001b[39;00m\n\u001b[0;32m   3816\u001b[0m     \u001b[38;5;66;03m#  the TypeError.\u001b[39;00m\n\u001b[0;32m   3817\u001b[0m     \u001b[38;5;28mself\u001b[39m\u001b[38;5;241m.\u001b[39m_check_indexing_error(key)\n",
      "\u001b[1;31mKeyError\u001b[0m: 'Id'"
     ]
    }
   ],
   "source": [
    "def menu():\n",
    "    print(\"Menú:\")\n",
    "    print(\"1. Promedio de magnitud y profundidad de los sismos por mes\")\n",
    "    print(\"2. Promedio de sismos sensibles por año\")\n",
    "    print(\"3. Sismos con error mayor a 25kms por año\")\n",
    "    print(\"4. Información del sismo con la menor cantidad de fases\")\n",
    "    print(\"5. \")\n",
    "    print(\"5. Salir\")\n",
    "    \n",
    "opcion = None\n",
    "while opcion != '5':\n",
    "    menu()\n",
    "    opcion = input(\"Seleccione una opción: \")\n",
    "\n",
    "    if opcion == '1':\n",
    "        promedio_magnitud_profundidad_por_mes()\n",
    "    elif opcion == '2':\n",
    "        sismos_sensibles_promedio_por_anio()\n",
    "    elif opcion == '3':\n",
    "        sismos_con_error_mayor_a_25kms()\n",
    "    elif opcion == '4':\n",
    "        sismo_menor_cantidad_fases()\n",
    "    elif opcion == '5':\n",
    "        print(\"¡Hasta luego!\")\n",
    "    else:\n",
    "        print(\"Opción no válida. Por favor, seleccione una opción válida.\")\n"
   ]
  },
  {
   "cell_type": "code",
   "execution_count": null,
   "metadata": {},
   "outputs": [],
   "source": []
  }
 ],
 "metadata": {
  "kernelspec": {
   "display_name": "Python 3 (ipykernel)",
   "language": "python",
   "name": "python3"
  },
  "language_info": {
   "codemirror_mode": {
    "name": "ipython",
    "version": 3
   },
   "file_extension": ".py",
   "mimetype": "text/x-python",
   "name": "python",
   "nbconvert_exporter": "python",
   "pygments_lexer": "ipython3",
   "version": "3.10.1"
  }
 },
 "nbformat": 4,
 "nbformat_minor": 4
}
