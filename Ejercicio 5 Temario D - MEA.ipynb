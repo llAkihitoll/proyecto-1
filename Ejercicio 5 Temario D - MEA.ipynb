{
 "cells": [
  {
   "cell_type": "code",
   "execution_count": 1,
   "metadata": {},
   "outputs": [],
   "source": [
    "#==========================================================\n",
    "# Universidad del Valle de Guatemala\n",
    "# Algoritmos y programación básica\n",
    "# Seccion 60\n",
    "# \n",
    "# Pedro Martínez & Saúl Castillo\n",
    "# Ejercicio Pandas - MEA\n",
    "# 10/05/24\n",
    "#=========================================================="
   ]
  },
  {
   "cell_type": "code",
   "execution_count": 2,
   "metadata": {},
   "outputs": [],
   "source": [
    "import pandas as pd\n",
    "import matplotlib.pyplot as plt"
   ]
  },
  {
   "cell_type": "code",
   "execution_count": 3,
   "metadata": {},
   "outputs": [],
   "source": [
    "def datos():\n",
    "    sisData = pd.read_csv('reporte_sismos_2019_2023.csv')\n",
    "    return sisData"
   ]
  },
  {
   "cell_type": "code",
   "execution_count": 4,
   "metadata": {},
   "outputs": [],
   "source": [
    "def cantidad_sismos(sisData):\n",
    "    print(\"Cantidad de sismos registrados en los últimos 5 años:\", len(sisData))\n",
    "    print(\"Nombres de las variables:\")\n",
    "    print(sisData.columns.tolist())"
   ]
  },
  {
   "cell_type": "code",
   "execution_count": 5,
   "metadata": {},
   "outputs": [],
   "source": [
    "def sismos_por_anio(sisData, anio):\n",
    "    sismos_anio = sisData[sisData['Anio'] == anio]\n",
    "    print(f\"Cantidad de sismos en el año {anio}: {len(sismos_anio)}\")"
   ]
  },
  {
   "cell_type": "code",
   "execution_count": 6,
   "metadata": {},
   "outputs": [],
   "source": [
    "def primeros_10_sismos_anio(sisData, anio):\n",
    "    sismos_anio = sisData[sisData['Anio'] == anio].head(10)\n",
    "    print(f\"Primeros 10 sismos en el año {anio}:\\n{str(sismos_anio)}\")"
   ]
  },
  {
   "cell_type": "code",
   "execution_count": 7,
   "metadata": {},
   "outputs": [],
   "source": [
    "def a_primeros_sismos_menor_intensidad(sisData,a):\n",
    "    sismos_ordenados = sisData.sort_values(by='MAG').head(a)\n",
    "    print(f\"Los {a} sismos de menor intensidad son:\\n{str(sismos_ordenados)}\")"
   ]
  },
  {
   "cell_type": "code",
   "execution_count": 8,
   "metadata": {},
   "outputs": [],
   "source": [
    "def sismos_menor_numero_estaciones(sisData, anio):\n",
    "    sismos_anio = sisData[sisData['Anio'] == anio]\n",
    "    sismos_ordenados = sismos_anio.sort_values(by='NST').head(10)\n",
    "    print(f\"Los 10 sismos detectados por el menor número de estaciones en el año {anio} son:\\n{str(sismos_ordenados)}\")"
   ]
  },
  {
   "cell_type": "code",
   "execution_count": 9,
   "metadata": {},
   "outputs": [],
   "source": [
    "def magnitud_promedio_por_anio(sisData, anio):\n",
    "    sismos_anio = sisData[sisData['Anio'] == anio]\n",
    "    magnitud_promedio = sismos_anio['MAG'].mean()\n",
    "    print(f\"Magnitud promedio de los sismos en el año {anio}: {magnitud_promedio}\")"
   ]
  },
  {
   "cell_type": "code",
   "execution_count": 10,
   "metadata": {},
   "outputs": [],
   "source": [
    "def promedio_magnitud_profundidad_por_mes(sisData):\n",
    "    sisData['Mes'] = pd.to_datetime(sisData['TiempodeOrigen']).dt.month\n",
    "    promedio_mes = sisData.groupby('Mes').agg({'MAG': 'mean', 'Profundidad': 'mean'})\n",
    "    print(\"Promedio de magnitud y profundidad de los sismos por mes:\")\n",
    "    print(promedio_mes)"
   ]
  },
  {
   "cell_type": "code",
   "execution_count": 11,
   "metadata": {},
   "outputs": [],
   "source": [
    "def sismos_sensibles_promedio_por_anio(sisData):\n",
    "    promedio_anual = sisData.groupby('Anio')['Sensible'].apply(lambda x: (x == 'si').sum() / len(x))\n",
    "    print(\"Promedio de sismos sensibles por año:\")\n",
    "    print(promedio_anual)\n",
    "    opcion = input(\"¿Desea visualizar una gráfica? (s/n): \")\n",
    "    if opcion.lower() == 's':\n",
    "        promedio_anual.plot(kind='bar', title='Promedio de sismos sensibles por año')\n",
    "        plt.xlabel('Año')\n",
    "        plt.ylabel('Promedio sismos')\n",
    "        plt.show()"
   ]
  },
  {
   "cell_type": "code",
   "execution_count": 12,
   "metadata": {},
   "outputs": [],
   "source": [
    "def sismos_con_error_mayor_a_25kms(sisData):\n",
    "    sismos_error = sisData[sisData['No'].str.contains('\\*')]\n",
    "    sismos_por_anio = sismos_error.groupby('Anio').size()\n",
    "    print(\"Cantidad de sismos por año con error mayor a 25kms en su localización:\")\n",
    "    print(sismos_por_anio)\n",
    "    sismos_por_anio.plot(kind='bar', title='Sismos con error mayor a 25kms por año')\n",
    "    plt.xlabel('Año')\n",
    "    plt.ylabel('Cantidad de sismos')\n",
    "    plt.show()"
   ]
  },
  {
   "cell_type": "code",
   "execution_count": 13,
   "metadata": {},
   "outputs": [],
   "source": [
    "def sismo_menor_cantidad_fases(sisData):\n",
    "    minimo_fases = sisData['NF'].min()\n",
    "    sismo_menor_fases = sisData[sisData['NF'] == minimo_fases]\n",
    "    sismo_menor_fases = sismo_menor_fases.iloc[0]\n",
    "    print(\"Información del sismo con la menor cantidad de fases:\")\n",
    "    print(sismo_menor_fases)"
   ]
  },
  {
   "cell_type": "code",
   "execution_count": 14,
   "metadata": {},
   "outputs": [],
   "source": [
    "def crear_usuario():\n",
    "    print(\"Usuario creado exitosamente.\")"
   ]
  },
  {
   "cell_type": "code",
   "execution_count": 15,
   "metadata": {},
   "outputs": [],
   "source": [
    "def ingresar_sistema():\n",
    "    usuario = input(\"Ingrese su nombre de usuario: \")\n",
    "    password = input(\"Ingrese su contraseña: \")\n",
    "    print(f\"Bienvenido, {usuario}.\")"
   ]
  },
  {
   "cell_type": "code",
   "execution_count": null,
   "metadata": {},
   "outputs": [],
   "source": [
    "def menu():\n",
    "    print(\"Menú:\")\n",
    "    print(\"1. Mostrar cantidad de sismos que han ocurrido durante los últimos 5 años\")\n",
    "    print(\"2. Mostrar cuántos sismos han ocurrido en el año n\")\n",
    "    print(\"3. Mostrar los primeros 10 sismos en el territorio nacional en el año y\")\n",
    "    print(\"4. Mostrar los 'a' primeros sismos de menor intensidad\")\n",
    "    print(\"5. Mostrar los 10 sismos que fueron detectados por el menor número de estaciones en el año b \")\n",
    "    print(\"6. Mostrar cual ha sido la magnitud promedio de los sismos en un año x, que ingrese el usuario.\")\n",
    "    print(\"7. Promedio de magnitud y profundidad de los sismos por mes\")\n",
    "    print(\"8. Promedio de sismos sensibles por año\")\n",
    "    print(\"9. Sismos con error mayor a 25kms por año\")\n",
    "    print(\"10. Información del sismo con la menor cantidad de fases\")\n",
    "    print(\"11. Salir\")\n",
    "\n",
    "sisData = datos()\n",
    "opcion = 0\n",
    "while opcion != '11':\n",
    "    menu()\n",
    "    opcion = input(\"Seleccione una opción: \")\n",
    "\n",
    "    if opcion == '1':\n",
    "        cantidad_sismos(sisData)\n",
    "    elif opcion == '2':\n",
    "        anio = int(input(\"Ingrese el año para consultar la cantidad de sismos: \"))\n",
    "        sismos_por_anio(sisData, anio)\n",
    "    elif opcion == '3':\n",
    "        anio = int(input(\"Ingrese el año para consultar los primeros 10 sismos: \"))\n",
    "        primeros_10_sismos_anio(sisData, anio)\n",
    "    elif opcion == '4':\n",
    "        a = int(input(\"Ingrese el número de sismos de menor intensidad a mostrar: \"))\n",
    "        a_primeros_sismos_menor_intensidad(sisData, a)\n",
    "    elif opcion == '5':\n",
    "        anio = int(input(\"Ingrese el año para consultar los sismos: \"))\n",
    "        sismos_menor_numero_estaciones(sisData, anio)\n",
    "    elif opcion == '6':\n",
    "        anio = int(input(\"Ingrese el año para calcular la magnitud promedio de los sismos: \"))\n",
    "        magnitud_promedio_por_anio(sisData, anio)\n",
    "    elif opcion == '7':\n",
    "        promedio_magnitud_profundidad_por_mes(sisData)\n",
    "    elif opcion == '8':\n",
    "        sismos_sensibles_promedio_por_anio(sisData)\n",
    "    elif opcion == '9':\n",
    "        sismos_con_error_mayor_a_25kms(sisData)\n",
    "    elif opcion == '10':\n",
    "        sismo_menor_cantidad_fases(sisData)\n",
    "    elif opcion == '11':\n",
    "        print(\"¡Hasta luego!\")\n",
    "    else:\n",
    "        print(\"Opción no válida. Por favor, seleccione una opción válida.\")"
   ]
  },
  {
   "cell_type": "code",
   "execution_count": null,
   "metadata": {},
   "outputs": [],
   "source": []
  }
 ],
 "metadata": {
  "kernelspec": {
   "display_name": "Python 3 (ipykernel)",
   "language": "python",
   "name": "python3"
  },
  "language_info": {
   "codemirror_mode": {
    "name": "ipython",
    "version": 3
   },
   "file_extension": ".py",
   "mimetype": "text/x-python",
   "name": "python",
   "nbconvert_exporter": "python",
   "pygments_lexer": "ipython3",
   "version": "3.10.1"
  }
 },
 "nbformat": 4,
 "nbformat_minor": 4
}
