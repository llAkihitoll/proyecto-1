{
 "cells": [
  {
   "cell_type": "code",
   "execution_count": 1,
   "metadata": {},
   "outputs": [],
   "source": [
    "#==========================================================\n",
    "# Universidad del Valle de Guatemala\n",
    "# Algoritmos y programación básica\n",
    "# Seccion 60\n",
    "# \n",
    "# Pedro Martínez & Saúl Castillo\n",
    "# Ejercicio Pandas - MEA\n",
    "# 10/05/24\n",
    "#=========================================================="
   ]
  },
  {
   "cell_type": "code",
   "execution_count": 2,
   "metadata": {},
   "outputs": [],
   "source": [
    "import pandas as pd\n",
    "import matplotlib.pyplot as plt\n",
    "\n",
    "sisData = pd.read_csv('reporte_sismos_2019_2023.csv')"
   ]
  },
  {
   "cell_type": "code",
   "execution_count": 4,
   "metadata": {},
   "outputs": [
    {
     "name": "stdout",
     "output_type": "stream",
     "text": [
      "         No      TiempodeOrigen  Latitud  Longitud  Profundidad  MAG  NST  NF  \\\n",
      "0        1    2019-01-01T02:25    14.762   -91.062          6.1  3.4   11  17   \n",
      "1        2    2019-01-01T02:45    14.486   -91.773         67.6  3.3    5   9   \n",
      "2        3    2019-01-01T03:19    14.135   -92.318         27.1  4.0   16  19   \n",
      "3        4    2019-01-01T11:17    14.391   -91.578         82.6  4.6   21  31   \n",
      "4        5    2019-01-01T15:27    14.301   -91.856         59.5  3.0    7   2   \n",
      "...     ...                 ...      ...       ...          ...  ...  ...  ..   \n",
      "19828  4625   2023-12-30T12:38    12.275   -89.103         11.1  4.0   21  32   \n",
      "19829  4626   2023-12-30T19:27    13.896   -89.753          1.0  2.6    7  12   \n",
      "19830  4627   2023-12-30T20:55    13.931   -91.441         38.3  2.7   25  28   \n",
      "19831  4628   2023-12-31T01:10    12.965   -89.216         26.9  3.0   16  29   \n",
      "19832  4629   2023-12-31T05:06    13.311   -89.905         26.4  2.4    8  15   \n",
      "\n",
      "                 ZS Sensible  Anio  \n",
      "0               G4        si  2019  \n",
      "1       SUBDUCCION        no  2019  \n",
      "2       SUBDUCCION        no  2019  \n",
      "3       SUBDUCCION        no  2019  \n",
      "4       SUBDUCCION        no  2019  \n",
      "...             ...      ...   ...  \n",
      "19828     REGIONAL        no  2023  \n",
      "19829           G4        no  2023  \n",
      "19830   SUBDUCCION        no  2023  \n",
      "19831     REGIONAL        no  2023  \n",
      "19832   SUBDUCCION        no  2023  \n",
      "\n",
      "[19833 rows x 11 columns]\n"
     ]
    }
   ],
   "source": [
    "print(sisData)"
   ]
  },
  {
   "cell_type": "code",
   "execution_count": 5,
   "metadata": {},
   "outputs": [],
   "source": [
    "def cantidad_sismos():\n",
    "    print(\"Cantidad de sismos registrados en los últimos 5 años:\", len(sisData))\n",
    "    print(\"Nombres de las variables:\")\n",
    "    print(sisData.columns.tolist())"
   ]
  },
  {
   "cell_type": "code",
   "execution_count": 6,
   "metadata": {},
   "outputs": [],
   "source": [
    "def sismos_por_anio():\n",
    "    anio = int(input(\"Ingrese el año para consultar la cantidad de sismos: \"))\n",
    "    sismos_anio = sisData[sisData['Anio'] == anio]\n",
    "    print(f\"Cantidad de sismos en el año {anio}: {len(sismos_anio)}\")"
   ]
  },
  {
   "cell_type": "code",
   "execution_count": 7,
   "metadata": {},
   "outputs": [],
   "source": [
    "def primeros_10_sismos_anio():\n",
    "    anio = int(input(\"Ingrese el año para consultar los primeros 10 sismos: \"))\n",
    "    sismos_anio = sisData[sisData['Anio'] == anio].head(10)\n",
    "    print(f\"Primeros 10 sismos en el año {anio}:\\n{str(sismos_anio)}\")"
   ]
  },
  {
   "cell_type": "code",
   "execution_count": 8,
   "metadata": {},
   "outputs": [],
   "source": [
    "def a_primeros_sismos_menor_intensidad():\n",
    "    a = int(input(\"Ingrese el número de sismos de menor intensidad a mostrar: \"))\n",
    "    sismos_ordenados = sisData.sort_values(by='MAG').head(a)\n",
    "    print(f\"Los {a} sismos de menor intensidad son:\\n{str(sismos_ordenados)}\")"
   ]
  },
  {
   "cell_type": "code",
   "execution_count": 9,
   "metadata": {},
   "outputs": [],
   "source": [
    "def sismos_menor_numero_estaciones():\n",
    "    anio = int(input(\"Ingrese el año para consultar los sismos: \"))\n",
    "    sismos_anio = sisData[sisData['Anio'] == anio]\n",
    "    sismos_ordenados = sismos_anio.sort_values(by='NST').head(10)\n",
    "    print(f\"Los 10 sismos detectados por el menor número de estaciones en el año {anio} son:\\n{str(sismos_ordenados)}\")"
   ]
  },
  {
   "cell_type": "code",
   "execution_count": 10,
   "metadata": {},
   "outputs": [],
   "source": [
    "def magnitud_promedio_por_anio():\n",
    "    anio = int(input(\"Ingrese el año para calcular la magnitud promedio de los sismos: \"))\n",
    "    sismos_anio = sisData[sisData['Anio'] == anio]\n",
    "    magnitud_promedio = sismos_anio['MAG'].mean()\n",
    "    print(f\"Magnitud promedio de los sismos en el año {anio}: {magnitud_promedio}\")"
   ]
  },
  {
   "cell_type": "code",
   "execution_count": 11,
   "metadata": {},
   "outputs": [],
   "source": [
    "def promedio_magnitud_profundidad_por_mes():\n",
    "    sisData['Mes'] = pd.to_datetime(sisData['TiempodeOrigen']).dt.month\n",
    "    promedio_mes = sisData.groupby('Mes').agg({'MAG': 'mean', 'Profundidad': 'mean'})\n",
    "    print(\"Promedio de magnitud y profundidad de los sismos por mes:\")\n",
    "    print(promedio_mes)"
   ]
  },
  {
   "cell_type": "code",
   "execution_count": 12,
   "metadata": {},
   "outputs": [],
   "source": [
    "def sismos_sensibles_promedio_por_año(SisData):\n",
    "    SisData['Sensible'] = SisData['Sensible'].map({'si': 1, 'no': 0})\n",
    "    \n",
    "    sismos_sensibles_por_año = SisData.groupby(SisData['TiempodeOrigen'].str[:4])['Sensible'].sum()    \n",
    "    promedio_sismos_sensibles = sismos_sensibles_por_año.mean()   \n",
    "    print(f\"En promedio, han ocurrido {promedio_sismos_sensibles} sismos sensibles por año.\")\n",
    "\n",
    "    plt.show()"
   ]
  },
  {
   "cell_type": "code",
   "execution_count": 13,
   "metadata": {},
   "outputs": [],
   "source": [
    "def sismos_sensibles_promedio_por_anio():\n",
    "    promedio_anual = sisData.groupby('Anio')['Sensible'].apply(lambda x: (x == 'si').sum() / len(x))\n",
    "    print(\"Promedio de sismos sensibles por año:\")\n",
    "    print(promedio_anual)\n",
    "    opcion = input(\"¿Desea visualizar una gráfica? (s/n): \")\n",
    "    if opcion.lower() == 's':\n",
    "        promedio_anual.plot(kind='bar', title='Promedio de sismos sensibles por año')\n",
    "        plt.xlabel('Año')\n",
    "        plt.ylabel('Promedio sismos')\n",
    "        plt.show()"
   ]
  },
  {
   "cell_type": "code",
   "execution_count": 14,
   "metadata": {},
   "outputs": [],
   "source": [
    "def sismos_con_error_mayor_a_25kms():\n",
    "    sismos_error = sisData[sisData['No'].str.contains('\\*')]\n",
    "    sismos_por_anio = sismos_error.groupby('Anio').size()\n",
    "    print(\"Cantidad de sismos por año con error mayor a 25kms en su localización:\")\n",
    "    print(sismos_por_anio)\n",
    "    sismos_por_anio.plot(kind='bar', title='Sismos con error mayor a 25kms por año')\n",
    "    plt.xlabel('Año')\n",
    "    plt.ylabel('Cantidad de sismos')\n",
    "    plt.show()"
   ]
  },
  {
   "cell_type": "code",
   "execution_count": 15,
   "metadata": {},
   "outputs": [],
   "source": [
    "def sismo_menor_cantidad_fases():\n",
    "    sismo_menor_fases = sisData[sisData['NF'] == sisData['NF'].min()]\n",
    "    print(\"Información del sismo con la menor cantidad de fases:\")\n",
    "    print(sismo_menor_fases)\n"
   ]
  },
  {
   "cell_type": "code",
   "execution_count": 16,
   "metadata": {},
   "outputs": [],
   "source": [
    "def crear_usuario():\n",
    "    print(\"Usuario creado exitosamente.\")"
   ]
  },
  {
   "cell_type": "code",
   "execution_count": 17,
   "metadata": {},
   "outputs": [],
   "source": [
    "def ingresar_sistema():\n",
    "    usuario = input(\"Ingrese su nombre de usuario: \")\n",
    "    password = input(\"Ingrese su contraseña: \")\n",
    "    print(f\"Bienvenido, {usuario}.\")"
   ]
  },
  {
   "cell_type": "code",
   "execution_count": null,
   "metadata": {},
   "outputs": [
    {
     "name": "stdout",
     "output_type": "stream",
     "text": [
      "Menú:\n",
      "1. Mostrar cantidad de sismos que han ocurrido durante los últimos 5 años\n",
      "2. Mostrar cuántos sismos han ocurrido en el año n\n",
      "3. Mostrar los primeros 10 sismos en el territorio nacional en el año y\n",
      "4. Mostrar los 'a' primeros sismos de menor intensidad\n",
      "5. Mostrar los 10 sismos que fueron detectados por el menor número de estaciones en el año b \n",
      "6. Mostrar cual ha sido la magnitud promedio de los sismos en un año x, que ingrese el usuario.\n",
      "7. Promedio de magnitud y profundidad de los sismos por mes\n",
      "8. Promedio de sismos sensibles por año\n",
      "9. Sismos con error mayor a 25kms por año\n",
      "10. Información del sismo con la menor cantidad de fases\n",
      "11. Salir\n"
     ]
    },
    {
     "name": "stdin",
     "output_type": "stream",
     "text": [
      "Seleccione una opción:  1\n"
     ]
    },
    {
     "name": "stdout",
     "output_type": "stream",
     "text": [
      "Cantidad de sismos registrados en los últimos 5 años: 19833\n",
      "Nombres de las variables:\n",
      "['No', 'TiempodeOrigen', 'Latitud', 'Longitud', 'Profundidad', 'MAG', 'NST', 'NF', 'ZS', 'Sensible', 'Anio']\n",
      "Menú:\n",
      "1. Mostrar cantidad de sismos que han ocurrido durante los últimos 5 años\n",
      "2. Mostrar cuántos sismos han ocurrido en el año n\n",
      "3. Mostrar los primeros 10 sismos en el territorio nacional en el año y\n",
      "4. Mostrar los 'a' primeros sismos de menor intensidad\n",
      "5. Mostrar los 10 sismos que fueron detectados por el menor número de estaciones en el año b \n",
      "6. Mostrar cual ha sido la magnitud promedio de los sismos en un año x, que ingrese el usuario.\n",
      "7. Promedio de magnitud y profundidad de los sismos por mes\n",
      "8. Promedio de sismos sensibles por año\n",
      "9. Sismos con error mayor a 25kms por año\n",
      "10. Información del sismo con la menor cantidad de fases\n",
      "11. Salir\n"
     ]
    },
    {
     "name": "stdin",
     "output_type": "stream",
     "text": [
      "Seleccione una opción:  2\n",
      "Ingrese el año para consultar la cantidad de sismos:  2023\n"
     ]
    },
    {
     "name": "stdout",
     "output_type": "stream",
     "text": [
      "Cantidad de sismos en el año 2023: 4629\n",
      "Menú:\n",
      "1. Mostrar cantidad de sismos que han ocurrido durante los últimos 5 años\n",
      "2. Mostrar cuántos sismos han ocurrido en el año n\n",
      "3. Mostrar los primeros 10 sismos en el territorio nacional en el año y\n",
      "4. Mostrar los 'a' primeros sismos de menor intensidad\n",
      "5. Mostrar los 10 sismos que fueron detectados por el menor número de estaciones en el año b \n",
      "6. Mostrar cual ha sido la magnitud promedio de los sismos en un año x, que ingrese el usuario.\n",
      "7. Promedio de magnitud y profundidad de los sismos por mes\n",
      "8. Promedio de sismos sensibles por año\n",
      "9. Sismos con error mayor a 25kms por año\n",
      "10. Información del sismo con la menor cantidad de fases\n",
      "11. Salir\n"
     ]
    },
    {
     "name": "stdin",
     "output_type": "stream",
     "text": [
      "Seleccione una opción:  3\n",
      "Ingrese el año para consultar los primeros 10 sismos:  2023\n"
     ]
    },
    {
     "name": "stdout",
     "output_type": "stream",
     "text": [
      "Primeros 10 sismos en el año 2023:\n",
      "       No      TiempodeOrigen  Latitud  Longitud  Profundidad  MAG  NST  NF  \\\n",
      "15204   1   2023-01-01T00:43    13.854   -91.280          5.1  3.7   16  16   \n",
      "15205   2   2023-01-01T00:43    13.928   -91.248         36.7  3.7    9  15   \n",
      "15206   3   2023-01-01T02:02    13.991   -91.220         78.1  3.8   10  15   \n",
      "15207   4   2023-01-01T09:49    14.565   -91.256         26.2  3.4   12  12   \n",
      "15208   5   2023-01-01T11:56    14.243   -91.489         53.7  3.1   15  17   \n",
      "15209   6   2023-01-01T12:51    15.043   -93.421         38.8  3.6   12  14   \n",
      "15210   7   2023-01-01T13:35    15.090   -92.458        139.9  3.8   12  12   \n",
      "15211   8   2023-01-01T13:37    15.866   -92.491        222.8  4.6   29  29   \n",
      "15212   9   2023-01-01T13:37    15.723   -92.219        201.7  4.5   51  53   \n",
      "15213  10   2023-01-01T14:40    13.250   -90.108         44.4  3.4   10  10   \n",
      "\n",
      "                 ZS Sensible  Anio  \n",
      "15204           G2        no  2023  \n",
      "15205   SUBDUCCION        no  2023  \n",
      "15206   SUBDUCCION        no  2023  \n",
      "15207   SUBDUCCION        no  2023  \n",
      "15208   SUBDUCCION        no  2023  \n",
      "15209     REGIONAL        no  2023  \n",
      "15210     REGIONAL        no  2023  \n",
      "15211     REGIONAL        no  2023  \n",
      "15212     REGIONAL        no  2023  \n",
      "15213   SUBDUCCION        no  2023  \n",
      "Menú:\n",
      "1. Mostrar cantidad de sismos que han ocurrido durante los últimos 5 años\n",
      "2. Mostrar cuántos sismos han ocurrido en el año n\n",
      "3. Mostrar los primeros 10 sismos en el territorio nacional en el año y\n",
      "4. Mostrar los 'a' primeros sismos de menor intensidad\n",
      "5. Mostrar los 10 sismos que fueron detectados por el menor número de estaciones en el año b \n",
      "6. Mostrar cual ha sido la magnitud promedio de los sismos en un año x, que ingrese el usuario.\n",
      "7. Promedio de magnitud y profundidad de los sismos por mes\n",
      "8. Promedio de sismos sensibles por año\n",
      "9. Sismos con error mayor a 25kms por año\n",
      "10. Información del sismo con la menor cantidad de fases\n",
      "11. Salir\n"
     ]
    },
    {
     "name": "stdin",
     "output_type": "stream",
     "text": [
      "Seleccione una opción:  4\n",
      "Ingrese el número de sismos de menor intensidad a mostrar:  10\n"
     ]
    },
    {
     "name": "stdout",
     "output_type": "stream",
     "text": [
      "Los 10 sismos de menor intensidad son:\n",
      "         No      TiempodeOrigen  Latitud  Longitud  Profundidad  MAG  NST  NF  \\\n",
      "18025  2822   2023-06-29T02:21    14.050   -89.838          6.8  0.5    5   8   \n",
      "17617  2414   2023-05-08T23:06    14.079   -89.841          5.1  0.5    4   8   \n",
      "17655  2452   2023-05-13T23:22    14.066   -89.847          4.9  0.5    4   8   \n",
      "17949  2746   2023-06-20T03:43    14.067   -89.835          7.2  0.6    7  12   \n",
      "18019  2816   2023-06-28T22:53    14.050   -89.840          4.3  0.6    5  10   \n",
      "17737  2534   2023-05-22T22:18    14.070   -89.847          6.4  0.6    4   8   \n",
      "17039  1836   2023-03-12T03:15    14.146   -89.808          9.6  0.7    6   6   \n",
      "19343  4140   2023-11-03T03:29    14.061   -89.846          6.1  0.7   11  15   \n",
      "19342  4139   2023-11-03T03:29    14.106   -89.826          4.6  0.7    3   6   \n",
      "19463  4260   2023-11-14T21:50    14.082   -89.807          5.3  0.7    4   7   \n",
      "\n",
      "         ZS Sensible  Anio  \n",
      "18025   G4        no  2023  \n",
      "17617   G4        no  2023  \n",
      "17655   G4        no  2023  \n",
      "17949   G4        no  2023  \n",
      "18019   G4        no  2023  \n",
      "17737   G4        no  2023  \n",
      "17039   G4        no  2023  \n",
      "19343   G4        no  2023  \n",
      "19342   G4        no  2023  \n",
      "19463   G4        no  2023  \n",
      "Menú:\n",
      "1. Mostrar cantidad de sismos que han ocurrido durante los últimos 5 años\n",
      "2. Mostrar cuántos sismos han ocurrido en el año n\n",
      "3. Mostrar los primeros 10 sismos en el territorio nacional en el año y\n",
      "4. Mostrar los 'a' primeros sismos de menor intensidad\n",
      "5. Mostrar los 10 sismos que fueron detectados por el menor número de estaciones en el año b \n",
      "6. Mostrar cual ha sido la magnitud promedio de los sismos en un año x, que ingrese el usuario.\n",
      "7. Promedio de magnitud y profundidad de los sismos por mes\n",
      "8. Promedio de sismos sensibles por año\n",
      "9. Sismos con error mayor a 25kms por año\n",
      "10. Información del sismo con la menor cantidad de fases\n",
      "11. Salir\n"
     ]
    },
    {
     "name": "stdin",
     "output_type": "stream",
     "text": [
      "Seleccione una opción:  5\n",
      "Ingrese el año para consultar los sismos:  2023\n"
     ]
    },
    {
     "name": "stdout",
     "output_type": "stream",
     "text": [
      "Los 10 sismos detectados por el menor número de estaciones en el año 2023 son:\n",
      "         No      TiempodeOrigen  Latitud  Longitud  Profundidad  MAG  NST  NF  \\\n",
      "16647  1444   2023-02-15T14:38    13.880   -91.390         31.0  3.1    0   0   \n",
      "17406  2203   2023-04-18T01:31    14.070   -89.849          3.9  1.3    3   6   \n",
      "15688   485   2023-01-16T20:14    14.041   -89.786         11.2  1.8    3   6   \n",
      "18282  3079   2023-07-25T01:15    14.549   -90.544          6.2  1.4    3   7   \n",
      "17637  2434   2023-05-11T04:49    14.090   -90.059          0.0  1.3    3   6   \n",
      "15694   491   2023-01-16T20:26    14.010   -89.789          8.8  1.8    3   6   \n",
      "17635  2432   2023-05-11T00:59    14.042   -90.025          0.0  1.2    3   6   \n",
      "15697   494   2023-01-16T20:29    14.087   -89.757         15.8  2.0    3   6   \n",
      "15698   495   2023-01-16T20:30    14.007   -89.745          6.1  1.6    3   5   \n",
      "15407   204   2023-01-14T04:56    15.532   -92.223        164.5  3.4    3   6   \n",
      "\n",
      "                 ZS Sensible  Anio  \n",
      "16647   SUBDUCCION        no  2023  \n",
      "17406           G4        no  2023  \n",
      "15688           G4        no  2023  \n",
      "18282           G5        no  2023  \n",
      "17637           G4        no  2023  \n",
      "15694           G4        no  2023  \n",
      "17635           G4        no  2023  \n",
      "15697           G4        no  2023  \n",
      "15698           G4        no  2023  \n",
      "15407     REGIONAL        no  2023  \n",
      "Menú:\n",
      "1. Mostrar cantidad de sismos que han ocurrido durante los últimos 5 años\n",
      "2. Mostrar cuántos sismos han ocurrido en el año n\n",
      "3. Mostrar los primeros 10 sismos en el territorio nacional en el año y\n",
      "4. Mostrar los 'a' primeros sismos de menor intensidad\n",
      "5. Mostrar los 10 sismos que fueron detectados por el menor número de estaciones en el año b \n",
      "6. Mostrar cual ha sido la magnitud promedio de los sismos en un año x, que ingrese el usuario.\n",
      "7. Promedio de magnitud y profundidad de los sismos por mes\n",
      "8. Promedio de sismos sensibles por año\n",
      "9. Sismos con error mayor a 25kms por año\n",
      "10. Información del sismo con la menor cantidad de fases\n",
      "11. Salir\n"
     ]
    },
    {
     "name": "stdin",
     "output_type": "stream",
     "text": [
      "Seleccione una opción:  6\n",
      "Ingrese el año para calcular la magnitud promedio de los sismos:  2019\n"
     ]
    },
    {
     "name": "stdout",
     "output_type": "stream",
     "text": [
      "Magnitud promedio de los sismos en el año 2019: 3.725158097332966\n",
      "Menú:\n",
      "1. Mostrar cantidad de sismos que han ocurrido durante los últimos 5 años\n",
      "2. Mostrar cuántos sismos han ocurrido en el año n\n",
      "3. Mostrar los primeros 10 sismos en el territorio nacional en el año y\n",
      "4. Mostrar los 'a' primeros sismos de menor intensidad\n",
      "5. Mostrar los 10 sismos que fueron detectados por el menor número de estaciones en el año b \n",
      "6. Mostrar cual ha sido la magnitud promedio de los sismos en un año x, que ingrese el usuario.\n",
      "7. Promedio de magnitud y profundidad de los sismos por mes\n",
      "8. Promedio de sismos sensibles por año\n",
      "9. Sismos con error mayor a 25kms por año\n",
      "10. Información del sismo con la menor cantidad de fases\n",
      "11. Salir\n"
     ]
    },
    {
     "name": "stdout",
     "output_type": "stream",
     "text": [
      "¡Hasta luego!\n"
     ]
    }
   ],
   "source": [
    "def menu():\n",
    "    print(\"Menú:\")\n",
    "    print(\"1. Mostrar cantidad de sismos que han ocurrido durante los últimos 5 años\")\n",
    "    print(\"2. Mostrar cuántos sismos han ocurrido en el año n\")\n",
    "    print(\"3. Mostrar los primeros 10 sismos en el territorio nacional en el año y\")\n",
    "    print(\"4. Mostrar los 'a' primeros sismos de menor intensidad\")\n",
    "    print(\"5. Mostrar los 10 sismos que fueron detectados por el menor número de estaciones en el año b \")\n",
    "    print(\"6. Mostrar cual ha sido la magnitud promedio de los sismos en un año x, que ingrese el usuario.\")\n",
    "    print(\"7. Promedio de magnitud y profundidad de los sismos por mes\")\n",
    "    print(\"8. Promedio de sismos sensibles por año\")\n",
    "    print(\"9. Sismos con error mayor a 25kms por año\")\n",
    "    print(\"10. Información del sismo con la menor cantidad de fases\")\n",
    "    print(\"11. Salir\")\n",
    "    \n",
    "opcion = None\n",
    "while opcion != '11':\n",
    "    menu()\n",
    "    opcion = input(\"Seleccione una opción: \")\n",
    "\n",
    "    if opcion == '1':\n",
    "        cantidad_sismos()\n",
    "    elif opcion == '2':\n",
    "        sismos_por_anio()\n",
    "    elif opcion == '3':\n",
    "        primeros_10_sismos_anio()\n",
    "    elif opcion == '4':\n",
    "        a_primeros_sismos_menor_intensidad()\n",
    "    elif opcion == '5':\n",
    "        sismos_menor_numero_estaciones()\n",
    "    elif opcion == '6':\n",
    "        magnitud_promedio_por_anio()\n",
    "    elif opcion == '7':\n",
    "        promedio_magnitud_profundidad_por_mes()\n",
    "    elif opcion == '8':\n",
    "        sismos_sensibles_promedio_por_anio()\n",
    "        sismos_sensibles_promedio_por_año(sisData)\n",
    "    elif opcion == '9':\n",
    "        sismos_con_error_mayor_a_25kms()\n",
    "    elif opcion == '10':\n",
    "        sismo_menor_cantidad_fases()\n",
    "    elif opcion == '11':\n",
    "        print(\"¡Hasta luego!\")\n",
    "    else:\n",
    "        print(\"Opción no válida. Por favor, seleccione una opción válida.\")\n"
   ]
  },
  {
   "cell_type": "code",
   "execution_count": null,
   "metadata": {},
   "outputs": [],
   "source": []
  }
 ],
 "metadata": {
  "kernelspec": {
   "display_name": "Python 3 (ipykernel)",
   "language": "python",
   "name": "python3"
  },
  "language_info": {
   "codemirror_mode": {
    "name": "ipython",
    "version": 3
   },
   "file_extension": ".py",
   "mimetype": "text/x-python",
   "name": "python",
   "nbconvert_exporter": "python",
   "pygments_lexer": "ipython3",
   "version": "3.10.1"
  }
 },
 "nbformat": 4,
 "nbformat_minor": 4
}
